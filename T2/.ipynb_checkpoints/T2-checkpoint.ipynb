{
 "cells": [
  {
   "cell_type": "markdown",
   "metadata": {},
   "source": [
    "# Pre"
   ]
  },
  {
   "cell_type": "markdown",
   "metadata": {},
   "source": [
    "## Importación"
   ]
  },
  {
   "cell_type": "code",
   "execution_count": 12,
   "metadata": {},
   "outputs": [],
   "source": [
    "from sklearn.neighbors import KNeighborsClassifier\n",
    "from pybalu.feature_extraction import lbp_features\n",
    "from pybalu.performance_eval import performance\n",
    "from pybalu.feature_selection import clean, sfs\n",
    "from pybalu.io import imread\n",
    "import numpy as np\n",
    "import os\n",
    "import sys\n",
    "import json"
   ]
  },
  {
   "cell_type": "code",
   "execution_count": 20,
   "metadata": {},
   "outputs": [],
   "source": [
    "def progressBar(value, endvalue, bar_length=20):\n",
    "    \n",
    "    # Visaulización obtenida de https://stackoverflow.com/questions/6169217/replace-console-output-in-python\n",
    "    \n",
    "    percent = float(value) / endvalue\n",
    "    arrow = '-' * int(round(percent * bar_length)-1) + '>'\n",
    "    spaces = ' ' * (bar_length - len(arrow))\n",
    "\n",
    "    sys.stdout.write(\"\\rPercent: [{0}] {1}%\".format(arrow + spaces, int(round(percent * 100))))\n",
    "    sys.stdout.flush()"
   ]
  },
  {
   "cell_type": "markdown",
   "metadata": {},
   "source": [
    "# Parte 1"
   ]
  },
  {
   "cell_type": "markdown",
   "metadata": {},
   "source": [
    "1) Elegimos $hdiv = 2$ y $vdiv = 2$ dado que entregan buenos resultados."
   ]
  },
  {
   "cell_type": "code",
   "execution_count": 83,
   "metadata": {},
   "outputs": [],
   "source": [
    "hdiv, vdiv = 2, 3"
   ]
  },
  {
   "cell_type": "code",
   "execution_count": 84,
   "metadata": {},
   "outputs": [
    {
     "name": "stdout",
     "output_type": "stream",
     "text": [
      "Percent: [------------------->] 100%\n",
      "LBPs Calculado\n",
      "LBP Shape: 350, 1024\n",
      "IDs Shape: 350, 1\n"
     ]
    }
   ],
   "source": [
    "directory = 'faces_ARLQ'\n",
    "\n",
    "LBPs = []\n",
    "IDs = []\n",
    "NNs = []\n",
    "\n",
    "i = 0\n",
    "for filename in os.listdir(directory):\n",
    "    \n",
    "    \n",
    "    if filename.endswith(\".png\"):\n",
    "        \n",
    "        # Para un archivo \"face_xxx_nn.png\", ID es xxx y nn es nn, ambos en int\n",
    "        id_nn = filename[:-4].split(\"_\")\n",
    "        ID = int(id_nn[1])\n",
    "        nn = int(id_nn[2])\n",
    "                \n",
    "        if ID % 2 == 1: # Nos quedamos con los impares\n",
    "            if nn <= 7: # y solo los 7 primeros\n",
    "                i += 1\n",
    "        \n",
    "                # Leemos la imágen y obtenemos sus features dadas por lbp\n",
    "                im = imread(f\"{directory}/{filename}\")\n",
    "                lbp = lbp_features(im, hdiv=hdiv, vdiv=vdiv)\n",
    "                \n",
    "                # Guardamos los resultados\n",
    "                LBPs.append(lbp)\n",
    "                IDs.append(ID)\n",
    "                NNs.append(nn)\n",
    "                \n",
    "                if i % 10 == 0:                    \n",
    "                    progressBar(i, 350, bar_length=20)\n",
    "print(f\"\\nLBPs Calculado\\nLBP Shape: {len(LBPs)}, {len(LBPs[0])}\\nIDs Shape: {len(IDs)}, 1\")"
   ]
  },
  {
   "cell_type": "markdown",
   "metadata": {},
   "source": [
    "2) Antes de la selección de features, realizaremos un cleansing con Clean. Luego realizaremos SFS."
   ]
  },
  {
   "cell_type": "code",
   "execution_count": 86,
   "metadata": {},
   "outputs": [],
   "source": [
    "Xtrain, Xtest, Ytrain, Ytest = [], [], [], []\n",
    "\n",
    "for lbp, ID, nn in zip(LBPs, IDs, NNs):\n",
    "    \n",
    "    # Como nos pide el enunciado, usamos las imágenes con nn=1 como testing, y el resto como training\n",
    "    \n",
    "    if nn == 1:\n",
    "        Xtest.append(lbp)\n",
    "        Ytest.append(ID)\n",
    "    else:\n",
    "        Xtrain.append(lbp)\n",
    "        Ytrain.append(ID)\n",
    "    \n",
    "# Transformamos a numpy arrays para que sea más fácil de trabajar (pybalu lo pide)\n",
    "Xtrain = np.array(Xtrain)\n",
    "Ytrain = np.array(Ytrain)\n",
    "Xtest = np.array(Xtest)\n",
    "Ytest = np.array(Ytest)"
   ]
  },
  {
   "cell_type": "code",
   "execution_count": 120,
   "metadata": {},
   "outputs": [
    {
     "name": "stdout",
     "output_type": "stream",
     "text": [
      "Cleaned from 1024 features to 1024\n"
     ]
    }
   ],
   "source": [
    "before = len(Xtrain[0])\n",
    "\n",
    "# Realizamos la función clean previo a la selection de features mediante sfs, como se nos fue recomendados en clase \n",
    "p_clean = clean(Xtrain)\n",
    "\n",
    "after = len(p_clean)\n",
    "print(f\"Cleaned.\\nBefore:{before} features\\nNow: {after} features\")"
   ]
  },
  {
   "cell_type": "code",
   "execution_count": 90,
   "metadata": {},
   "outputs": [],
   "source": [
    "# Después de obtener qué features usaremos, modificamos nuestro dataset a solo contener esas features\n",
    "\n",
    "Xtrain_cleaned = np.array([[x[i] for i in p_clean] for x in Xtrain])\n",
    "Xtest_cleaned = np.array([[x[i] for i in p_clean] for x in Xtest])"
   ]
  },
  {
   "cell_type": "code",
   "execution_count": 143,
   "metadata": {},
   "outputs": [],
   "source": [
    "\"\"\"\n",
    "Un bug en el código de sfs no permite que los las clases se salten enteros (1,3,5,..)\n",
    "Modificamos esto solo para correr sfs\n",
    "\"\"\" \n",
    "\n",
    "Ytrain_sfs = np.array([int((y-1)/2) for y in Ytrain])"
   ]
  },
  {
   "cell_type": "code",
   "execution_count": 112,
   "metadata": {
    "scrolled": true
   },
   "outputs": [
    {
     "name": "stderr",
     "output_type": "stream",
     "text": [
      "\n",
      "\n",
      "\n",
      "\n",
      "Selecting Features:   0%|          | 0.00/100 [00:00<?, ? features/s]\u001b[A\u001b[A\u001b[A\u001b[A\n",
      "\n",
      "\n",
      "\n",
      "Selecting Features:   1%|          | 1.00/100 [00:03<05:24, 3.28s/ features]\u001b[A\u001b[A\u001b[A\u001b[A\n",
      "\n",
      "\n",
      "\n",
      "Selecting Features:   2%|▏         | 2.00/100 [00:07<05:37, 3.45s/ features]\u001b[A\u001b[A\u001b[A\u001b[A\n",
      "\n",
      "\n",
      "\n",
      "Selecting Features:   3%|▎         | 3.00/100 [00:11<06:01, 3.73s/ features]\u001b[A\u001b[A\u001b[A\u001b[A\n",
      "\n",
      "\n",
      "\n",
      "Selecting Features:   4%|▍         | 4.00/100 [00:15<06:02, 3.78s/ features]\u001b[A\u001b[A\u001b[A\u001b[A\n",
      "\n",
      "\n",
      "\n",
      "Selecting Features:   5%|▌         | 5.00/100 [00:19<06:02, 3.81s/ features]\u001b[A\u001b[A\u001b[A\u001b[A\n",
      "\n",
      "\n",
      "\n",
      "Selecting Features:   6%|▌         | 6.00/100 [00:23<06:03, 3.87s/ features]\u001b[A\u001b[A\u001b[A\u001b[A\n",
      "\n",
      "\n",
      "\n",
      "Selecting Features:   7%|▋         | 7.00/100 [00:27<05:59, 3.86s/ features]\u001b[A\u001b[A\u001b[A\u001b[A\n",
      "\n",
      "\n",
      "\n",
      "Selecting Features:   8%|▊         | 8.00/100 [00:31<06:03, 3.96s/ features]\u001b[A\u001b[A\u001b[A\u001b[A\n",
      "\n",
      "\n",
      "\n",
      "Selecting Features:   9%|▉         | 9.00/100 [00:35<05:53, 3.89s/ features]\u001b[A\u001b[A\u001b[A\u001b[A\n",
      "\n",
      "\n",
      "\n",
      "Selecting Features:  10%|█         | 10.0/100 [00:39<06:08, 4.10s/ features]\u001b[A\u001b[A\u001b[A\u001b[A\n",
      "\n",
      "\n",
      "\n",
      "Selecting Features:  11%|█         | 11.0/100 [00:43<06:06, 4.12s/ features]\u001b[A\u001b[A\u001b[A\u001b[A\n",
      "\n",
      "\n",
      "\n",
      "Selecting Features:  12%|█▏        | 12.0/100 [00:47<06:02, 4.12s/ features]\u001b[A\u001b[A\u001b[A\u001b[A\n",
      "\n",
      "\n",
      "\n",
      "Selecting Features:  13%|█▎        | 13.0/100 [00:52<05:57, 4.11s/ features]\u001b[A\u001b[A\u001b[A\u001b[A\n",
      "\n",
      "\n",
      "\n",
      "Selecting Features:  14%|█▍        | 14.0/100 [00:56<05:54, 4.12s/ features]\u001b[A\u001b[A\u001b[A\u001b[A\n",
      "\n",
      "\n",
      "\n",
      "Selecting Features:  15%|█▌        | 15.0/100 [01:00<05:58, 4.22s/ features]\u001b[A\u001b[A\u001b[A\u001b[A\n",
      "\n",
      "\n",
      "\n",
      "Selecting Features:  16%|█▌        | 16.0/100 [01:04<05:53, 4.20s/ features]\u001b[A\u001b[A\u001b[A\u001b[A\n",
      "\n",
      "\n",
      "\n",
      "Selecting Features:  17%|█▋        | 17.0/100 [01:09<05:51, 4.23s/ features]\u001b[A\u001b[A\u001b[A\u001b[A\n",
      "\n",
      "\n",
      "\n",
      "Selecting Features:  18%|█▊        | 18.0/100 [01:13<05:48, 4.25s/ features]\u001b[A\u001b[A\u001b[A\u001b[A\n",
      "\n",
      "\n",
      "\n",
      "Selecting Features:  19%|█▉        | 19.0/100 [01:17<05:48, 4.30s/ features]\u001b[A\u001b[A\u001b[A\u001b[A\n",
      "\n",
      "\n",
      "\n",
      "Selecting Features:  20%|██        | 20.0/100 [01:22<06:01, 4.52s/ features]\u001b[A\u001b[A\u001b[A\u001b[A\n",
      "\n",
      "\n",
      "\n",
      "Selecting Features:  21%|██        | 21.0/100 [01:27<05:51, 4.45s/ features]\u001b[A\u001b[A\u001b[A\u001b[A\n",
      "\n",
      "\n",
      "\n",
      "Selecting Features:  22%|██▏       | 22.0/100 [01:31<05:39, 4.35s/ features]\u001b[A\u001b[A\u001b[A\u001b[A\n",
      "\n",
      "\n",
      "\n",
      "Selecting Features:  23%|██▎       | 23.0/100 [01:35<05:29, 4.28s/ features]\u001b[A\u001b[A\u001b[A\u001b[A\n",
      "\n",
      "\n",
      "\n",
      "Selecting Features:  24%|██▍       | 24.0/100 [01:39<05:20, 4.22s/ features]\u001b[A\u001b[A\u001b[A\u001b[A\n",
      "\n",
      "\n",
      "\n",
      "Selecting Features:  25%|██▌       | 25.0/100 [01:43<05:12, 4.17s/ features]\u001b[A\u001b[A\u001b[A\u001b[A\n",
      "\n",
      "\n",
      "\n",
      "Selecting Features:  26%|██▌       | 26.0/100 [01:47<05:06, 4.14s/ features]\u001b[A\u001b[A\u001b[A\u001b[A\n",
      "\n",
      "\n",
      "\n",
      "Selecting Features:  27%|██▋       | 27.0/100 [01:51<05:01, 4.14s/ features]\u001b[A\u001b[A\u001b[A\u001b[A\n",
      "\n",
      "\n",
      "\n",
      "Selecting Features:  28%|██▊       | 28.0/100 [01:55<04:56, 4.12s/ features]\u001b[A\u001b[A\u001b[A\u001b[A\n",
      "\n",
      "\n",
      "\n",
      "Selecting Features:  29%|██▉       | 29.0/100 [01:59<04:54, 4.14s/ features]\u001b[A\u001b[A\u001b[A\u001b[A\n",
      "\n",
      "\n",
      "\n",
      "Selecting Features:  30%|███       | 30.0/100 [02:04<04:50, 4.15s/ features]\u001b[A\u001b[A\u001b[A\u001b[A\n",
      "\n",
      "\n",
      "\n",
      "Selecting Features:  31%|███       | 31.0/100 [02:08<05:01, 4.36s/ features]\u001b[A\u001b[A\u001b[A\u001b[A\n",
      "\n",
      "\n",
      "\n",
      "Selecting Features:  32%|███▏      | 32.0/100 [02:13<04:53, 4.32s/ features]\u001b[A\u001b[A\u001b[A\u001b[A\n",
      "\n",
      "\n",
      "\n",
      "Selecting Features:  33%|███▎      | 33.0/100 [02:18<05:14, 4.70s/ features]\u001b[A\u001b[A\u001b[A\u001b[A\n",
      "\n",
      "\n",
      "\n",
      "Selecting Features:  34%|███▍      | 34.0/100 [02:23<05:19, 4.85s/ features]\u001b[A\u001b[A\u001b[A\u001b[A\n",
      "\n",
      "\n",
      "\n",
      "Selecting Features:  35%|███▌      | 35.0/100 [02:28<05:17, 4.88s/ features]\u001b[A\u001b[A\u001b[A\u001b[A\n",
      "\n",
      "\n",
      "\n",
      "Selecting Features:  36%|███▌      | 36.0/100 [02:33<05:14, 4.92s/ features]\u001b[A\u001b[A\u001b[A\u001b[A\n",
      "\n",
      "\n",
      "\n",
      "Selecting Features:  37%|███▋      | 37.0/100 [02:38<05:11, 4.94s/ features]\u001b[A\u001b[A\u001b[A\u001b[A\n",
      "\n",
      "\n",
      "\n",
      "Selecting Features:  38%|███▊      | 38.0/100 [02:43<05:04, 4.91s/ features]\u001b[A\u001b[A\u001b[A\u001b[A\n",
      "\n",
      "\n",
      "\n",
      "Selecting Features:  39%|███▉      | 39.0/100 [02:48<04:58, 4.90s/ features]\u001b[A\u001b[A\u001b[A\u001b[A\n",
      "\n",
      "\n",
      "\n",
      "Selecting Features:  40%|████      | 40.0/100 [02:53<04:56, 4.94s/ features]\u001b[A\u001b[A\u001b[A\u001b[A\n",
      "\n",
      "\n",
      "\n",
      "Selecting Features:  41%|████      | 41.0/100 [02:58<04:54, 4.98s/ features]\u001b[A\u001b[A\u001b[A\u001b[A\n",
      "\n",
      "\n",
      "\n",
      "Selecting Features:  42%|████▏     | 42.0/100 [03:04<04:58, 5.15s/ features]\u001b[A\u001b[A\u001b[A\u001b[A\n",
      "\n",
      "\n",
      "\n",
      "Selecting Features:  43%|████▎     | 43.0/100 [03:10<05:04, 5.34s/ features]\u001b[A\u001b[A\u001b[A\u001b[A\n",
      "\n",
      "\n",
      "\n",
      "Selecting Features:  44%|████▍     | 44.0/100 [03:15<05:01, 5.39s/ features]\u001b[A\u001b[A\u001b[A\u001b[A\n",
      "\n",
      "\n",
      "\n",
      "Selecting Features:  45%|████▌     | 45.0/100 [03:20<04:55, 5.37s/ features]\u001b[A\u001b[A\u001b[A\u001b[A\n",
      "\n",
      "\n",
      "\n",
      "Selecting Features:  46%|████▌     | 46.0/100 [03:26<04:49, 5.36s/ features]\u001b[A\u001b[A\u001b[A\u001b[A\n",
      "\n",
      "\n",
      "\n",
      "Selecting Features:  47%|████▋     | 47.0/100 [03:31<04:38, 5.26s/ features]\u001b[A\u001b[A\u001b[A\u001b[A\n",
      "\n",
      "\n",
      "\n",
      "Selecting Features:  48%|████▊     | 48.0/100 [03:36<04:27, 5.14s/ features]\u001b[A\u001b[A\u001b[A\u001b[A\n",
      "\n",
      "\n",
      "\n",
      "Selecting Features:  49%|████▉     | 49.0/100 [03:41<04:20, 5.10s/ features]\u001b[A\u001b[A\u001b[A\u001b[A\n",
      "\n",
      "\n",
      "\n",
      "Selecting Features:  50%|█████     | 50.0/100 [03:46<04:23, 5.27s/ features]\u001b[A\u001b[A\u001b[A\u001b[A\n",
      "\n",
      "\n",
      "\n",
      "Selecting Features:  51%|█████     | 51.0/100 [03:52<04:23, 5.37s/ features]\u001b[A\u001b[A\u001b[A\u001b[A\n",
      "\n",
      "\n",
      "\n",
      "Selecting Features:  52%|█████▏    | 52.0/100 [03:57<04:12, 5.26s/ features]\u001b[A\u001b[A\u001b[A\u001b[A\n",
      "\n",
      "\n",
      "\n",
      "Selecting Features:  53%|█████▎    | 53.0/100 [04:02<04:04, 5.21s/ features]\u001b[A\u001b[A\u001b[A\u001b[A\n",
      "\n",
      "\n",
      "\n",
      "Selecting Features:  54%|█████▍    | 54.0/100 [04:07<03:59, 5.20s/ features]\u001b[A\u001b[A\u001b[A\u001b[A\n",
      "\n",
      "\n",
      "\n",
      "Selecting Features:  55%|█████▌    | 55.0/100 [04:12<03:52, 5.18s/ features]\u001b[A\u001b[A\u001b[A\u001b[A\n",
      "\n",
      "\n",
      "\n",
      "Selecting Features:  56%|█████▌    | 56.0/100 [04:17<03:47, 5.18s/ features]\u001b[A\u001b[A\u001b[A\u001b[A\n",
      "\n",
      "\n",
      "\n",
      "Selecting Features:  57%|█████▋    | 57.0/100 [04:23<03:46, 5.27s/ features]\u001b[A\u001b[A\u001b[A\u001b[A\n",
      "\n",
      "\n",
      "\n",
      "Selecting Features:  58%|█████▊    | 58.0/100 [04:28<03:43, 5.33s/ features]\u001b[A\u001b[A\u001b[A\u001b[A\n",
      "\n",
      "\n",
      "\n",
      "Selecting Features:  59%|█████▉    | 59.0/100 [04:34<03:40, 5.38s/ features]\u001b[A\u001b[A\u001b[A\u001b[A\n",
      "\n",
      "\n",
      "\n",
      "Selecting Features:  60%|██████    | 60.0/100 [04:40<03:40, 5.52s/ features]\u001b[A\u001b[A\u001b[A\u001b[A\n",
      "\n",
      "\n",
      "\n",
      "Selecting Features:  61%|██████    | 61.0/100 [04:46<03:40, 5.66s/ features]\u001b[A\u001b[A\u001b[A\u001b[A\n",
      "\n",
      "\n",
      "\n",
      "Selecting Features:  62%|██████▏   | 62.0/100 [04:51<03:31, 5.56s/ features]\u001b[A\u001b[A\u001b[A\u001b[A\n",
      "\n",
      "\n",
      "\n",
      "Selecting Features:  63%|██████▎   | 63.0/100 [04:57<03:26, 5.58s/ features]\u001b[A\u001b[A\u001b[A\u001b[A\n",
      "\n",
      "\n",
      "\n",
      "Selecting Features:  64%|██████▍   | 64.0/100 [05:02<03:17, 5.49s/ features]\u001b[A\u001b[A\u001b[A\u001b[A\n",
      "\n",
      "\n",
      "\n",
      "Selecting Features:  65%|██████▌   | 65.0/100 [05:08<03:21, 5.77s/ features]\u001b[A\u001b[A\u001b[A\u001b[A\n",
      "\n",
      "\n",
      "\n",
      "Selecting Features:  66%|██████▌   | 66.0/100 [05:15<03:29, 6.16s/ features]\u001b[A\u001b[A\u001b[A\u001b[A\n",
      "\n",
      "\n",
      "\n",
      "Selecting Features:  67%|██████▋   | 67.0/100 [05:22<03:29, 6.34s/ features]\u001b[A\u001b[A\u001b[A\u001b[A\n",
      "\n",
      "\n",
      "\n",
      "Selecting Features:  68%|██████▊   | 68.0/100 [05:29<03:31, 6.62s/ features]\u001b[A\u001b[A\u001b[A\u001b[A\n",
      "\n",
      "\n",
      "\n",
      "Selecting Features:  69%|██████▉   | 69.0/100 [05:36<03:28, 6.71s/ features]\u001b[A\u001b[A\u001b[A\u001b[A\n",
      "\n",
      "\n",
      "\n",
      "Selecting Features:  70%|███████   | 70.0/100 [05:43<03:18, 6.63s/ features]\u001b[A\u001b[A\u001b[A\u001b[A\n",
      "\n",
      "\n",
      "\n",
      "Selecting Features:  71%|███████   | 71.0/100 [05:50<03:15, 6.74s/ features]\u001b[A\u001b[A\u001b[A\u001b[A\n",
      "\n",
      "\n",
      "\n",
      "Selecting Features:  72%|███████▏  | 72.0/100 [05:58<03:17, 7.05s/ features]\u001b[A\u001b[A\u001b[A\u001b[A\n",
      "\n",
      "\n",
      "\n",
      "Selecting Features:  73%|███████▎  | 73.0/100 [06:05<03:12, 7.14s/ features]\u001b[A\u001b[A\u001b[A\u001b[A\n",
      "\n",
      "\n",
      "\n",
      "Selecting Features:  74%|███████▍  | 74.0/100 [06:13<03:08, 7.26s/ features]\u001b[A\u001b[A\u001b[A\u001b[A\n",
      "\n",
      "\n",
      "\n",
      "Selecting Features:  75%|███████▌  | 75.0/100 [06:20<03:02, 7.30s/ features]\u001b[A\u001b[A\u001b[A\u001b[A\n",
      "\n",
      "\n",
      "\n",
      "Selecting Features:  76%|███████▌  | 76.0/100 [06:28<03:00, 7.52s/ features]\u001b[A\u001b[A\u001b[A\u001b[A\n",
      "\n",
      "\n",
      "\n",
      "Selecting Features:  77%|███████▋  | 77.0/100 [06:35<02:52, 7.49s/ features]\u001b[A\u001b[A\u001b[A\u001b[A\n",
      "\n",
      "\n",
      "\n",
      "Selecting Features:  78%|███████▊  | 78.0/100 [06:43<02:45, 7.53s/ features]\u001b[A\u001b[A\u001b[A\u001b[A\n",
      "\n",
      "\n",
      "\n",
      "Selecting Features:  79%|███████▉  | 79.0/100 [06:50<02:37, 7.48s/ features]\u001b[A\u001b[A\u001b[A\u001b[A\n",
      "\n",
      "\n",
      "\n",
      "Selecting Features:  80%|████████  | 80.0/100 [06:58<02:28, 7.45s/ features]\u001b[A\u001b[A\u001b[A\u001b[A\n",
      "\n",
      "\n",
      "\n",
      "Selecting Features:  81%|████████  | 81.0/100 [07:05<02:19, 7.33s/ features]\u001b[A\u001b[A\u001b[A\u001b[A\n",
      "\n",
      "\n",
      "\n",
      "Selecting Features:  82%|████████▏ | 82.0/100 [07:12<02:12, 7.35s/ features]\u001b[A\u001b[A\u001b[A\u001b[A\n",
      "\n",
      "\n",
      "\n",
      "Selecting Features:  83%|████████▎ | 83.0/100 [07:20<02:06, 7.45s/ features]\u001b[A\u001b[A\u001b[A\u001b[A\n",
      "\n",
      "\n",
      "\n",
      "Selecting Features:  84%|████████▍ | 84.0/100 [07:28<02:03, 7.71s/ features]\u001b[A\u001b[A\u001b[A\u001b[A\n",
      "\n",
      "\n",
      "\n",
      "Selecting Features:  85%|████████▌ | 85.0/100 [07:36<01:55, 7.72s/ features]\u001b[A\u001b[A\u001b[A\u001b[A\n",
      "\n",
      "\n",
      "\n",
      "Selecting Features:  86%|████████▌ | 86.0/100 [07:44<01:48, 7.73s/ features]\u001b[A\u001b[A\u001b[A\u001b[A\n",
      "\n",
      "\n",
      "\n",
      "Selecting Features:  87%|████████▋ | 87.0/100 [07:51<01:39, 7.65s/ features]\u001b[A\u001b[A\u001b[A\u001b[A\n",
      "\n",
      "\n",
      "\n",
      "Selecting Features:  88%|████████▊ | 88.0/100 [07:59<01:34, 7.86s/ features]\u001b[A\u001b[A\u001b[A\u001b[A\n",
      "\n",
      "\n",
      "\n"
     ]
    },
    {
     "name": "stderr",
     "output_type": "stream",
     "text": [
      "Selecting Features:  89%|████████▉ | 89.0/100 [08:08<01:27, 7.95s/ features]\u001b[A\u001b[A\u001b[A\u001b[A\n",
      "\n",
      "\n",
      "\n",
      "Selecting Features:  90%|█████████ | 90.0/100 [08:15<01:19, 7.91s/ features]\u001b[A\u001b[A\u001b[A\u001b[A\n",
      "\n",
      "\n",
      "\n",
      "Selecting Features:  91%|█████████ | 91.0/100 [08:23<01:11, 7.92s/ features]\u001b[A\u001b[A\u001b[A\u001b[A\n",
      "\n",
      "\n",
      "\n",
      "Selecting Features:  92%|█████████▏| 92.0/100 [08:32<01:05, 8.18s/ features]\u001b[A\u001b[A\u001b[A\u001b[A\n",
      "\n",
      "\n",
      "\n",
      "Selecting Features:  93%|█████████▎| 93.0/100 [08:40<00:55, 7.99s/ features]\u001b[A\u001b[A\u001b[A\u001b[A\n",
      "\n",
      "\n",
      "\n",
      "Selecting Features:  94%|█████████▍| 94.0/100 [08:47<00:47, 7.90s/ features]\u001b[A\u001b[A\u001b[A\u001b[A\n",
      "\n",
      "\n",
      "\n",
      "Selecting Features:  95%|█████████▌| 95.0/100 [08:55<00:38, 7.79s/ features]\u001b[A\u001b[A\u001b[A\u001b[A\n",
      "\n",
      "\n",
      "\n",
      "Selecting Features:  96%|█████████▌| 96.0/100 [09:03<00:31, 7.82s/ features]\u001b[A\u001b[A\u001b[A\u001b[A\n",
      "\n",
      "\n",
      "\n",
      "Selecting Features:  97%|█████████▋| 97.0/100 [09:11<00:24, 8.01s/ features]\u001b[A\u001b[A\u001b[A\u001b[A\n",
      "\n",
      "\n",
      "\n",
      "Selecting Features:  98%|█████████▊| 98.0/100 [09:20<00:16, 8.18s/ features]\u001b[A\u001b[A\u001b[A\u001b[A\n",
      "\n",
      "\n",
      "\n",
      "Selecting Features:  99%|█████████▉| 99.0/100 [09:28<00:08, 8.05s/ features]\u001b[A\u001b[A\u001b[A\u001b[A\n",
      "\n",
      "\n",
      "\n",
      "Selecting Features: 100%|██████████| 100/100 [09:37<00:00, 8.40s/ features] \u001b[A\u001b[A\u001b[A\u001b[A"
     ]
    }
   ],
   "source": [
    "# Obtenemos qué features sfs nos ha seleccionado\n",
    "p_sfs = sfs(Xtrain_cleaned, Ytrain_sfs, 100, show=True)"
   ]
  },
  {
   "cell_type": "code",
   "execution_count": 122,
   "metadata": {},
   "outputs": [],
   "source": [
    "# Nuevamente modificamos nuestro dataset para solo considerar las features dadas por el selector\n",
    "\n",
    "Xtrain_sfs = np.array([[x[i] for i in p_sfs] for x in Xtrain_cleaned])\n",
    "Xtest_sfs = np.array([[x[i] for i in p_sfs] for x in Xtest_cleaned])"
   ]
  },
  {
   "cell_type": "code",
   "execution_count": 170,
   "metadata": {},
   "outputs": [
    {
     "data": {
      "text/plain": [
       "KNeighborsClassifier(algorithm='auto', leaf_size=30, metric='minkowski',\n",
       "           metric_params=None, n_jobs=None, n_neighbors=1, p=2,\n",
       "           weights='uniform')"
      ]
     },
     "execution_count": 170,
     "metadata": {},
     "output_type": "execute_result"
    }
   ],
   "source": [
    "# Inicializamos el clasificador con k=1\n",
    "\n",
    "knn = KNeighborsClassifier(n_neighbors=1)\n",
    "knn.fit(Xtrain_sfs, Ytrain)"
   ]
  },
  {
   "cell_type": "markdown",
   "metadata": {},
   "source": [
    "3) Calculamos el accuracy usando la función performance entregada en pybalu"
   ]
  },
  {
   "cell_type": "code",
   "execution_count": 144,
   "metadata": {},
   "outputs": [
    {
     "name": "stdout",
     "output_type": "stream",
     "text": [
      "Predicción tuvo un accuracy de 0.94\n"
     ]
    }
   ],
   "source": [
    "# Predecimos y vemos el resultado\n",
    "pred = knn.predict(Xtest_sfs)\n",
    "print(f\"Predicción tuvo un accuracy de {performance(pred, Ytest)}\")"
   ]
  },
  {
   "cell_type": "markdown",
   "metadata": {},
   "source": [
    "# Parte 2"
   ]
  },
  {
   "cell_type": "markdown",
   "metadata": {},
   "source": [
    "1) Al igual que en la parte 1, usamos un $hdiv = 2$ y $vdiv = 2$"
   ]
  },
  {
   "cell_type": "code",
   "execution_count": 125,
   "metadata": {},
   "outputs": [
    {
     "name": "stdout",
     "output_type": "stream",
     "text": [
      "Percent: [------------------->] 100%\n",
      "LBPs Calculado\n",
      "LBP Shape: 350, 1024\n",
      "IDs Shape: 350, 1\n"
     ]
    }
   ],
   "source": [
    "directory = 'faces_ARLQ'\n",
    "\n",
    "LBPs2 = []\n",
    "IDs2 = []\n",
    "NNs2 = []\n",
    "\n",
    "i = 0\n",
    "for filename in os.listdir(directory):\n",
    "    \n",
    "    \n",
    "    if filename.endswith(\".png\"):\n",
    "        \n",
    "        # Para un archivo \"face_xxx_nn.png\", ID es xxx y nn es nn, ambos en int\n",
    "        id_nn = filename[:-4].split(\"_\")\n",
    "        ID = int(id_nn[1])\n",
    "        nn = int(id_nn[2])\n",
    "                \n",
    "        if ID % 2 == 0: # Nos quedamos con los pares\n",
    "            if nn <= 7: # y solo los 7 primeros\n",
    "                i += 1\n",
    "                      \n",
    "                # Leemos la imágen y obtenemos sus features dadas por lbp\n",
    "                im = imread(f\"{directory}/{filename}\")\n",
    "                lbp = lbp_features(im, hdiv=hdiv, vdiv=vdiv)\n",
    "               \n",
    "                # Guardamos los resultados\n",
    "                LBPs2.append(lbp)\n",
    "                IDs2.append(ID)\n",
    "                NNs2.append(nn)\n",
    "                \n",
    "                if i % 10 == 0:                    \n",
    "                    progressBar(i, 350, bar_length=20)\n",
    "print(f\"\\nLBPs Calculado\\nLBP Shape: {len(LBPs)}, {len(LBPs[0])}\\nIDs Shape: {len(IDs)}, 1\")"
   ]
  },
  {
   "cell_type": "markdown",
   "metadata": {},
   "source": [
    "2)"
   ]
  },
  {
   "cell_type": "code",
   "execution_count": 126,
   "metadata": {},
   "outputs": [],
   "source": [
    "Xtrain2, Xtest2, Ytrain2, Ytest2 = [], [], [], []\n",
    "\n",
    "# Como nos pide el enunciado, usamos las imágenes con nn=1 como testing, y el resto como training\n",
    "for lbp, ID, nn in zip(LBPs2, IDs2, NNs2):\n",
    "    if nn == 1:\n",
    "        Xtest2.append(lbp)\n",
    "        Ytest2.append(ID)\n",
    "    else:\n",
    "        Xtrain2.append(lbp)\n",
    "        Ytrain2.append(ID)\n",
    "\n",
    "# Transformamos a numpy arrays para que sea más fácil de trabajar (pybalu lo pide)\n",
    "Xtrain2 = np.array(Xtrain2)\n",
    "Ytrain2 = np.array(Ytrain2)\n",
    "Xtest2 = np.array(Xtest2)\n",
    "Ytest2 = np.array(Ytest2)"
   ]
  },
  {
   "cell_type": "code",
   "execution_count": 138,
   "metadata": {},
   "outputs": [],
   "source": [
    "# Para obtener las mismas features del clean de la parte 1, usamos el p_clean (en vez de calcular uno nuevo)\n",
    "Xtrain2_cleaned = np.array([[x[i] for i in p_clean] for x in Xtrain2])\n",
    "Xtest2_cleaned = np.array([[x[i] for i in p_clean] for x in Xtest2])"
   ]
  },
  {
   "cell_type": "code",
   "execution_count": 139,
   "metadata": {},
   "outputs": [],
   "source": [
    "# Así, usamos p_sfs de la parte 1 para obtener las mismas features\n",
    "Xtrain2_sfs = np.array([[x[i] for i in p_sfs] for x in Xtrain2_cleaned])\n",
    "Xtest2_sfs = np.array([[x[i] for i in p_sfs] for x in Xtest2_cleaned])"
   ]
  },
  {
   "cell_type": "markdown",
   "metadata": {},
   "source": [
    "3)"
   ]
  },
  {
   "cell_type": "code",
   "execution_count": 141,
   "metadata": {},
   "outputs": [
    {
     "data": {
      "text/plain": [
       "KNeighborsClassifier(algorithm='auto', leaf_size=30, metric='minkowski',\n",
       "           metric_params=None, n_jobs=None, n_neighbors=1, p=2,\n",
       "           weights='uniform')"
      ]
     },
     "execution_count": 141,
     "metadata": {},
     "output_type": "execute_result"
    }
   ],
   "source": [
    "# Inicializamos otra vez el clasificador con k=1\n",
    "\n",
    "knn2 = KNeighborsClassifier(n_neighbors=1)\n",
    "knn2.fit(Xtrain2_sfs, Ytrain2)"
   ]
  },
  {
   "cell_type": "markdown",
   "metadata": {},
   "source": [
    "4)"
   ]
  },
  {
   "cell_type": "code",
   "execution_count": 145,
   "metadata": {},
   "outputs": [
    {
     "name": "stdout",
     "output_type": "stream",
     "text": [
      "Predicción tuvo un accuracy de 0.88\n"
     ]
    }
   ],
   "source": [
    "# Nuevamente predecimos y vemos el resultado\n",
    "\n",
    "pred2 = knn2.predict(Xtest2_sfs)\n",
    "print(f\"Predicción tuvo un accuracy de {performance(pred2, Ytest2)}\")"
   ]
  },
  {
   "cell_type": "markdown",
   "metadata": {},
   "source": [
    "# Guardar resultados"
   ]
  },
  {
   "cell_type": "code",
   "execution_count": 159,
   "metadata": {},
   "outputs": [],
   "source": [
    "# Los ndarray nos son JSON serializable, por lo que los pasamos a una lista de ints\n",
    "\n",
    "p_clean_l = [int(p) for p in p_clean]\n",
    "p_sfs_l = [int(p) for p in p_sfs]"
   ]
  },
  {
   "cell_type": "code",
   "execution_count": 161,
   "metadata": {},
   "outputs": [],
   "source": [
    "# Guardamos lo necesario para que el proceso no se tenga que ejecutar nuevamente\n",
    "\n",
    "data = {}  \n",
    "data['hdiv'] = hdiv  \n",
    "data['vdiv'] = vdiv  \n",
    "data['p_clean'] = p_clean_l\n",
    "data['p_sfs'] = p_sfs_l\n",
    "\n",
    "with open('saved.txt', 'w') as out:  \n",
    "    json.dump(data, out)"
   ]
  },
  {
   "cell_type": "code",
   "execution_count": 194,
   "metadata": {},
   "outputs": [],
   "source": [
    "# En caso de querer correr el modelo nuevamente, se usaría esta función.\n",
    "# Notamos que knn es un algoritmo 'lazy', por lo que requiere el Xtrain y Ytrain.\n",
    "# Si se prefiere pasar el modelo ya fiteado se da la opción\n",
    "\n",
    "def predict_from_scratch(filepath, data_filename, Xtrain=None, Ytrain=None, knn=None):\n",
    "    \n",
    "    if Xtrain is None or Ytrain is None:\n",
    "        assert knn, \"Por favor dar el modelo, o bien los datos Xtrain y Ytrain\"\n",
    "    \n",
    "    # Obtenemos los valores guardados\n",
    "    with open(data_filename) as f:  \n",
    "        data = json.load(f)\n",
    "        \n",
    "    hdiv = int(data['hdiv'])\n",
    "    vdiv = int(data['vdiv'])\n",
    "    local_p_clean = np.array(data['p_clean'])\n",
    "    local_p_sfs = np.array(data['p_sfs'])\n",
    "    \n",
    "    # Calculamos las features\n",
    "    im = imread(filepath)\n",
    "    lbp = lbp_features(im, hdiv=hdiv, vdiv=vdiv)\n",
    "    \n",
    "    # Filtramos\n",
    "    lbp_clean = np.array([lbp[i] for i in local_p_clean])\n",
    "    lbp_sfs = np.array([lbp_clean[i] for i in local_p_sfs])\n",
    "    lbp_sfs = lbp_sfs.reshape(1, -1)\n",
    "    \n",
    "    if not knn:\n",
    "        knn = KNeighborsClassifier(n_neighbors=1)\n",
    "        knn.fit(Xtrain, Ytrain)\n",
    "        \n",
    "    local_pred = knn.predict(lbp_sfs)\n",
    "    print(f\"La predicción es: {local_pred}\")        "
   ]
  },
  {
   "cell_type": "code",
   "execution_count": 197,
   "metadata": {},
   "outputs": [
    {
     "name": "stdout",
     "output_type": "stream",
     "text": [
      "La predicción es: [1]\n"
     ]
    }
   ],
   "source": [
    "# Ejemplo\n",
    "predict_from_scratch('faces_ARLQ/face_001_03.png', 'saved.txt', knn=knn)"
   ]
  }
 ],
 "metadata": {
  "kernelspec": {
   "display_name": "Python 3",
   "language": "python",
   "name": "python3"
  },
  "language_info": {
   "codemirror_mode": {
    "name": "ipython",
    "version": 3
   },
   "file_extension": ".py",
   "mimetype": "text/x-python",
   "name": "python",
   "nbconvert_exporter": "python",
   "pygments_lexer": "ipython3",
   "version": "3.6.8"
  }
 },
 "nbformat": 4,
 "nbformat_minor": 2
}
