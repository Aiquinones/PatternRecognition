{
 "cells": [
  {
   "cell_type": "markdown",
   "metadata": {},
   "source": [
    "# Tarea 3\n",
    "\n",
    "Alejandro Quiñones - 1463399J"
   ]
  },
  {
   "cell_type": "markdown",
   "metadata": {},
   "source": [
    "## Detección de Caras"
   ]
  },
  {
   "cell_type": "code",
   "execution_count": 153,
   "metadata": {},
   "outputs": [],
   "source": [
    "import matplotlib.pyplot as plt\n",
    "from sklearn.neighbors import KNeighborsClassifier\n",
    "from sklearn.decomposition import PCA\n",
    "from sklearn.preprocessing import Normalizer\n",
    "from pybalu.performance_eval import performance\n",
    "from pybalu.feature_selection import sfs, clean\n",
    "from pybalu.feature_transformation import normalize, pca\n",
    "from pybalu.data_selection import stratify\n",
    "from scipy.io import loadmat\n",
    "import numpy as np"
   ]
  },
  {
   "cell_type": "code",
   "execution_count": 154,
   "metadata": {},
   "outputs": [],
   "source": [
    "N_FEATURES = 40\n",
    "N_COMPONENTS = 10"
   ]
  },
  {
   "cell_type": "code",
   "execution_count": 155,
   "metadata": {},
   "outputs": [],
   "source": [
    "M = loadmat(\"set05-face-detection.mat\")"
   ]
  },
  {
   "cell_type": "code",
   "execution_count": 156,
   "metadata": {},
   "outputs": [],
   "source": [
    "X = M['f']\n",
    "Y = M['d']"
   ]
  },
  {
   "cell_type": "markdown",
   "metadata": {},
   "source": [
    "Se estratifica el dataset con 80-20"
   ]
  },
  {
   "cell_type": "code",
   "execution_count": 157,
   "metadata": {},
   "outputs": [],
   "source": [
    "clase1_20 = [X[i] for i in range(13)]\n",
    "clase1_80 = [X[i] for i in range(13, 64)]\n",
    "clase2_20 = [X[i] for i in range(64, 104)]\n",
    "clase2_80 = [X[i] for i in range(104, 264)]\n",
    "\n",
    "y1_20 = [Y[i] for i in range(13)]\n",
    "y1_80 = [Y[i] for i in range(13, 64)]\n",
    "y2_20 = [Y[i] for i in range(64, 104)]\n",
    "y2_80 = [Y[i] for i in range(104, 264)]"
   ]
  },
  {
   "cell_type": "code",
   "execution_count": 158,
   "metadata": {},
   "outputs": [],
   "source": [
    "Xtrain = clase1_80.copy()\n",
    "Xtrain.extend(clase2_80)\n",
    "Xtrain = np.vstack(Xtrain)\n",
    "\n",
    "Xtest = clase1_20.copy()\n",
    "Xtest.extend(clase2_20)\n",
    "Xtest = np.vstack(Xtest)\n",
    "\n",
    "Ytrain = y1_80.copy()\n",
    "Ytrain.extend(y2_80)\n",
    "Ytrain = np.vstack(Ytrain)\n",
    "\n",
    "Ytest = y1_20.copy()\n",
    "Ytest.extend(y2_20)\n",
    "Ytest = np.vstack(Ytest)"
   ]
  },
  {
   "cell_type": "markdown",
   "metadata": {},
   "source": [
    "Se aplica un clean"
   ]
  },
  {
   "cell_type": "code",
   "execution_count": 159,
   "metadata": {},
   "outputs": [],
   "source": [
    "p_clean = clean(Xtrain)"
   ]
  },
  {
   "cell_type": "code",
   "execution_count": 160,
   "metadata": {},
   "outputs": [],
   "source": [
    "Xtrain_clean = Xtrain[:, p_clean]\n",
    "Xtest_clean = Xtest[:, p_clean]"
   ]
  },
  {
   "cell_type": "markdown",
   "metadata": {},
   "source": [
    "Se normaliza el dataset"
   ]
  },
  {
   "cell_type": "code",
   "execution_count": 161,
   "metadata": {},
   "outputs": [],
   "source": [
    "normalizer = Normalizer().fit(Xtrain_clean)\n",
    "Xtrain_norm = normalizer.transform(Xtrain_clean)\n",
    "Xtest_norm = normalizer.transform(Xtest_clean)"
   ]
  },
  {
   "cell_type": "code",
   "execution_count": 162,
   "metadata": {},
   "outputs": [],
   "source": [
    "##Xtrain_norm, a, b = normalize(Xtrain_clean) \n",
    "#Xtest_norm = Xtest_clean * a + b"
   ]
  },
  {
   "cell_type": "markdown",
   "metadata": {},
   "source": [
    "Se seleccionan features según SFS"
   ]
  },
  {
   "cell_type": "code",
   "execution_count": 163,
   "metadata": {},
   "outputs": [
    {
     "name": "stderr",
     "output_type": "stream",
     "text": [
      "Selecting Features: 100%|██████████| 40.0/40.0 [00:06<00:00, 5.75 features/s]\n"
     ]
    }
   ],
   "source": [
    "p_sfs = sfs(Xtrain_norm, Ytrain, n_features=N_FEATURES, show=True)"
   ]
  },
  {
   "cell_type": "code",
   "execution_count": 164,
   "metadata": {},
   "outputs": [],
   "source": [
    "Xtrain_sfs = Xtrain_norm[:, p_sfs]\n",
    "Xtest_sfs = Xtest_norm[:, p_sfs]"
   ]
  },
  {
   "cell_type": "markdown",
   "metadata": {},
   "source": [
    "Se transforman las features a través de PCA"
   ]
  },
  {
   "cell_type": "code",
   "execution_count": 165,
   "metadata": {},
   "outputs": [],
   "source": [
    "sk_pca = PCA(n_components=N_COMPONENTS)\n",
    "Xtrain_pca = sk_pca.fit_transform(Xtrain_sfs)\n",
    "Xtest_pca = sk_pca.transform(Xtest_sfs)"
   ]
  },
  {
   "cell_type": "markdown",
   "metadata": {},
   "source": [
    "Se iniciliaza el modelo y se obtiene  la predicción del test set"
   ]
  },
  {
   "cell_type": "code",
   "execution_count": 166,
   "metadata": {},
   "outputs": [
    {
     "data": {
      "text/plain": [
       "KNeighborsClassifier(algorithm='auto', leaf_size=30, metric='minkowski',\n",
       "           metric_params=None, n_jobs=None, n_neighbors=1, p=2,\n",
       "           weights='uniform')"
      ]
     },
     "execution_count": 166,
     "metadata": {},
     "output_type": "execute_result"
    }
   ],
   "source": [
    "# Inicializamos el clasificador con k=1\n",
    "knn = KNeighborsClassifier(n_neighbors=1)\n",
    "knn.fit(Xtrain_pca, Ytrain)"
   ]
  },
  {
   "cell_type": "code",
   "execution_count": 167,
   "metadata": {},
   "outputs": [
    {
     "name": "stdout",
     "output_type": "stream",
     "text": [
      "Predicción tuvo un accuracy de 0.9245283018867925\n"
     ]
    }
   ],
   "source": [
    "pred = knn.predict(Xtest_pca)\n",
    "print(f\"Predicción tuvo un accuracy de {performance(pred, Ytest)}\")"
   ]
  }
 ],
 "metadata": {
  "kernelspec": {
   "display_name": "Python 3",
   "language": "python",
   "name": "python3"
  },
  "language_info": {
   "codemirror_mode": {
    "name": "ipython",
    "version": 3
   },
   "file_extension": ".py",
   "mimetype": "text/x-python",
   "name": "python",
   "nbconvert_exporter": "python",
   "pygments_lexer": "ipython3",
   "version": "3.6.8"
  }
 },
 "nbformat": 4,
 "nbformat_minor": 2
}
